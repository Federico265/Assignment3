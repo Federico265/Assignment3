{
 "cells": [
  {
   "cell_type": "code",
   "execution_count": 1,
   "outputs": [],
   "source": [
    "from gurobipy import Model, GRB, quicksum\n",
    "import pandas as pd\n",
    "import numpy as np\n",
    "\n",
    "def read_basic_data():\n",
    "    # Excel file names\n",
    "    travel_times = pd.read_excel('a2_part1.xlsx','Travel Times')\n",
    "    lines = pd.read_excel('a2_part1.xlsx', 'Lines')\n",
    "\n",
    "    lines = lines.drop(['Name','Frequency'], axis = 1)\n",
    "    lines = lines.fillna(0)\n",
    "\n",
    "    weights = 1 #Each activity has the same importance for us\n",
    "    \n",
    "    return travel_times, lines, weights\n",
    "\n",
    "travel_times, lines, weights = read_basic_data()"
   ],
   "metadata": {
    "collapsed": false,
    "ExecuteTime": {
     "end_time": "2024-01-18T08:48:31.070472200Z",
     "start_time": "2024-01-18T08:48:29.972748300Z"
    }
   },
   "id": "83c30dee5be5b545"
  },
  {
   "cell_type": "code",
   "execution_count": null,
   "outputs": [],
   "source": [
    "\n",
    "def build_model(travel_times, lines, weights):\n",
    "\n",
    "    # Initialize the Gurobi model\n",
    "    model = Model(\"NS_trains\")\n",
    "\n",
    "    line_names = ['800','3000','3100','3500','3900']\n",
    "    runnning_activites = {}\n",
    "    dwelling_activities = {}\n",
    "    transfer_activities = {}\n",
    "    sync_activities = {}\n",
    "    headway_activities = {}\n",
    "    events_pi_f= {}\n",
    "    events_pi_b= {}\n",
    "\n",
    "    for k in range(5):\n",
    "        station_names = lines.iloc[k].tolist()  # Extract station names from the first row\n",
    "        name = line_names[k]\n",
    "\n",
    "        # Create Gurobi variables for each possible trip between stations\n",
    "        for i in range(len(station_names) - 1):\n",
    "            station1 = str(station_names[i])\n",
    "            station2 = str(station_names[i+1])\n",
    "\n",
    "            if station1 == '0' or station2 == '0':\n",
    "                break\n",
    "            # Create a Gurobi variable for the activity between station1 and station2\n",
    "            runnning_activites[f'{station1} - {station2} - {name}'] = model.addVar(vtype=GRB.CONTINUOUS,\n",
    "                                                                        name=f\"activity_{station1}{station2}{name}\")\n",
    "            runnning_activites[f'{station2} - {station1} - {name}'] = model.addVar(vtype=GRB.CONTINUOUS,\n",
    "                                                                        name=f\"activity_{station2}{station1}{name}\")\n",
    "            \n",
    "\n",
    "            if i != 0 and i != len(station_names):\n",
    "                dwelling_activities[f'dwelling - {station1} - {name} forward trip'] = model.addVar(vtype=GRB.CONTINUOUS,\n",
    "                                                        name=f\"activity_dwelling at {station1} - {name} forward trip\")\n",
    "                dwelling_activities[f'dwelling - {station1} - {name} backward trip'] = model.addVar(vtype=GRB.CONTINUOUS,\n",
    "                                                        name=f\"activity_dwelling at {station1} - {name} backward trip\")\n",
    "        \n",
    "\n",
    "            # Events\n",
    "            events_pi_f[f'arrival from {station1} to {station2} - {name} foward'] = model.addVar(vtype=GRB.CONTINUOUS,\n",
    "                                                                            name=f\"arrival_event_{station1}{station2}{name} foward\")\n",
    "            \n",
    "            events_pi_f[f'departure from {station1} to {station2} - {name} foward'] = model.addVar(vtype=GRB.CONTINUOUS,\n",
    "                                                                            name=f\"departure_event_{station1}{station2}{name} foward\")\n",
    "            \n",
    "            events_pi_b[f'arrival from {station2} to {station1} - {name} backwards'] = model.addVar(vtype=GRB.CONTINUOUS,\n",
    "                                                                            name=f\"arrival_event_{station1}{station2}{name} backwards\")\n",
    "            \n",
    "            events_pi_b[f'departure from {station2} to {station1} - {name} backwards'] = model.addVar(vtype=GRB.CONTINUOUS,\n",
    "                                                                            name=f\"departure_event_{station1}{station2}{name} backwards\")\n",
    "            \n",
    "                \n",
    "            \n",
    "                \n",
    "            \n",
    "    # Four Transfer activities at Eindhoven           \n",
    "    transfer_activities[f'transfer Hrl - Ut - 3500'] = model.addVar(vtype=GRB.CONTINUOUS,\n",
    "                                                        name=f\"activity_transfer at Hrl - Ut - 3500\")\n",
    "    transfer_activities[f'transfer Hrl - Ut - 800'] = model.addVar(vtype=GRB.CONTINUOUS,\n",
    "                                                        name=f\"activity_transfer at Hrl - Ut - 800 \")\n",
    "    transfer_activities[f'transfer Ut - Hrl - 800'] = model.addVar(vtype=GRB.CONTINUOUS,\n",
    "                                                        name=f\"activity_transfer at Ut - Hrl - 800 \")\n",
    "    transfer_activities[f'transfer Ut - Hrl - 3500'] = model.addVar(vtype=GRB.CONTINUOUS,\n",
    "                                                        name=f\"activity_transfer at Ut - Hrl - 3500\")\n",
    "    \n",
    "    # Headway at Utrecht from Ams/Sch and to Ams/Sch\n",
    "    headway_activities = ...\n",
    "    \n",
    "    sync_activities = ...\n",
    "    \n",
    "    \n",
    "    \n",
    "    \n",
    "    \n",
    "    \n",
    "    \n",
    "    \n",
    "    \n",
    "    \n",
    "    # Objective function: Minimize the total weighted travel time\n",
    "    objective = quicksum((rav * weights for rav in runnning_activites.values()))\n",
    "    \n",
    "    \n",
    "    model.setObjective(objective, GRB.MINIMIZE)\n",
    "    model.update()\n",
    "    \n",
    "    return model\n",
    "\n",
    "model = build_model(travel_times, lines, weights)"
   ],
   "metadata": {
    "collapsed": false,
    "is_executing": true,
    "ExecuteTime": {
     "start_time": "2024-01-18T10:17:32.342138500Z"
    }
   },
   "id": "50adcbf15b32888f"
  },
  {
   "cell_type": "code",
   "execution_count": null,
   "outputs": [],
   "source": [],
   "metadata": {
    "collapsed": false,
    "ExecuteTime": {
     "start_time": "2024-01-18T08:32:19.429203100Z"
    }
   },
   "id": "a37b410beba2130f"
  }
 ],
 "metadata": {
  "kernelspec": {
   "display_name": "Python 3",
   "language": "python",
   "name": "python3"
  },
  "language_info": {
   "codemirror_mode": {
    "name": "ipython",
    "version": 2
   },
   "file_extension": ".py",
   "mimetype": "text/x-python",
   "name": "python",
   "nbconvert_exporter": "python",
   "pygments_lexer": "ipython2",
   "version": "2.7.6"
  }
 },
 "nbformat": 4,
 "nbformat_minor": 5
}
