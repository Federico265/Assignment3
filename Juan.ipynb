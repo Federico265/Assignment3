{
 "cells": [
  {
   "cell_type": "code",
   "execution_count": 1,
   "outputs": [],
   "source": [
    "from gurobipy import Model, GRB, quicksum\n",
    "import pandas as pd\n",
    "import numpy as np\n",
    "\n",
    "def read_basic_data():\n",
    "    # Excel file names\n",
    "    travel_times = pd.read_excel('a2_part1.xlsx','Travel Times')\n",
    "    lines = pd.read_excel('a2_part1.xlsx', 'Lines')\n",
    "\n",
    "    lines = lines.drop(['Name','Frequency'], axis = 1)\n",
    "    lines = lines.fillna(0)\n",
    "\n",
    "    weights = 1 #Each activity has the same importance for us\n",
    "    \n",
    "    return travel_times, lines, weights\n",
    "\n",
    "travel_times, lines, weights = read_basic_data()"
   ],
   "metadata": {
    "collapsed": false,
    "ExecuteTime": {
     "end_time": "2024-01-18T08:48:31.070472200Z",
     "start_time": "2024-01-18T08:48:29.972748300Z"
    }
   },
   "id": "83c30dee5be5b545"
  },
  {
   "cell_type": "code",
   "execution_count": 7,
   "outputs": [
    {
     "name": "stdout",
     "output_type": "stream",
     "text": [
      "{'arrival - Amr - Asd - 800': <gurobi.Var *Awaiting Model Update*>, 'departure - Amr - Asd - 800': <gurobi.Var *Awaiting Model Update*>, 'arrival - Asd - Ut - 800': <gurobi.Var *Awaiting Model Update*>, 'departure - Asd - Ut - 800': <gurobi.Var *Awaiting Model Update*>, 'arrival - Ut - Ehv - 800': <gurobi.Var *Awaiting Model Update*>, 'departure - Ut - Ehv - 800': <gurobi.Var *Awaiting Model Update*>, 'arrival - Ehv - Std - 800': <gurobi.Var *Awaiting Model Update*>, 'departure - Ehv - Std - 800': <gurobi.Var *Awaiting Model Update*>, 'arrival - Std - Mt - 800': <gurobi.Var *Awaiting Model Update*>, 'departure - Std - Mt - 800': <gurobi.Var *Awaiting Model Update*>}\n",
      "{'arrival - Amr - Asd - 800': <gurobi.Var *Awaiting Model Update*>, 'departure - Amr - Asd - 800': <gurobi.Var *Awaiting Model Update*>, 'arrival - Asd - Ut - 800': <gurobi.Var *Awaiting Model Update*>, 'departure - Asd - Ut - 800': <gurobi.Var *Awaiting Model Update*>, 'arrival - Ut - Ehv - 800': <gurobi.Var *Awaiting Model Update*>, 'departure - Ut - Ehv - 800': <gurobi.Var *Awaiting Model Update*>, 'arrival - Ehv - Std - 800': <gurobi.Var *Awaiting Model Update*>, 'departure - Ehv - Std - 800': <gurobi.Var *Awaiting Model Update*>, 'arrival - Std - Mt - 800': <gurobi.Var *Awaiting Model Update*>, 'departure - Std - Mt - 800': <gurobi.Var *Awaiting Model Update*>, 'arrival - Hdr - Amr - 3000': <gurobi.Var *Awaiting Model Update*>, 'departure - Hdr - Amr - 3000': <gurobi.Var *Awaiting Model Update*>, 'arrival - Amr - Asd - 3000': <gurobi.Var *Awaiting Model Update*>, 'departure - Amr - Asd - 3000': <gurobi.Var *Awaiting Model Update*>, 'arrival - Asd - Ut - 3000': <gurobi.Var *Awaiting Model Update*>, 'departure - Asd - Ut - 3000': <gurobi.Var *Awaiting Model Update*>, 'arrival - Ut - Nm - 3000': <gurobi.Var *Awaiting Model Update*>, 'departure - Ut - Nm - 3000': <gurobi.Var *Awaiting Model Update*>}\n",
      "{'arrival - Amr - Asd - 800': <gurobi.Var *Awaiting Model Update*>, 'departure - Amr - Asd - 800': <gurobi.Var *Awaiting Model Update*>, 'arrival - Asd - Ut - 800': <gurobi.Var *Awaiting Model Update*>, 'departure - Asd - Ut - 800': <gurobi.Var *Awaiting Model Update*>, 'arrival - Ut - Ehv - 800': <gurobi.Var *Awaiting Model Update*>, 'departure - Ut - Ehv - 800': <gurobi.Var *Awaiting Model Update*>, 'arrival - Ehv - Std - 800': <gurobi.Var *Awaiting Model Update*>, 'departure - Ehv - Std - 800': <gurobi.Var *Awaiting Model Update*>, 'arrival - Std - Mt - 800': <gurobi.Var *Awaiting Model Update*>, 'departure - Std - Mt - 800': <gurobi.Var *Awaiting Model Update*>, 'arrival - Hdr - Amr - 3000': <gurobi.Var *Awaiting Model Update*>, 'departure - Hdr - Amr - 3000': <gurobi.Var *Awaiting Model Update*>, 'arrival - Amr - Asd - 3000': <gurobi.Var *Awaiting Model Update*>, 'departure - Amr - Asd - 3000': <gurobi.Var *Awaiting Model Update*>, 'arrival - Asd - Ut - 3000': <gurobi.Var *Awaiting Model Update*>, 'departure - Asd - Ut - 3000': <gurobi.Var *Awaiting Model Update*>, 'arrival - Ut - Nm - 3000': <gurobi.Var *Awaiting Model Update*>, 'departure - Ut - Nm - 3000': <gurobi.Var *Awaiting Model Update*>, 'arrival - Shl - Ut - 3100': <gurobi.Var *Awaiting Model Update*>, 'departure - Shl - Ut - 3100': <gurobi.Var *Awaiting Model Update*>, 'arrival - Ut - Nm - 3100': <gurobi.Var *Awaiting Model Update*>, 'departure - Ut - Nm - 3100': <gurobi.Var *Awaiting Model Update*>}\n"
     ]
    },
    {
     "ename": "KeyboardInterrupt",
     "evalue": "",
     "output_type": "error",
     "traceback": [
      "\u001B[1;31m---------------------------------------------------------------------------\u001B[0m",
      "\u001B[1;31mKeyboardInterrupt\u001B[0m                         Traceback (most recent call last)",
      "Cell \u001B[1;32mIn[7], line 90\u001B[0m\n\u001B[0;32m     86\u001B[0m     model\u001B[38;5;241m.\u001B[39mupdate()\n\u001B[0;32m     88\u001B[0m     \u001B[38;5;28;01mreturn\u001B[39;00m model\n\u001B[1;32m---> 90\u001B[0m model \u001B[38;5;241m=\u001B[39m build_model(travel_times, lines, weights)\n",
      "Cell \u001B[1;32mIn[7], line 15\u001B[0m, in \u001B[0;36mbuild_model\u001B[1;34m(travel_times, lines, weights)\u001B[0m\n\u001B[0;32m     12\u001B[0m headway_activities \u001B[38;5;241m=\u001B[39m {}\n\u001B[0;32m     13\u001B[0m events_pi \u001B[38;5;241m=\u001B[39m {}\n\u001B[1;32m---> 15\u001B[0m \u001B[38;5;28;01mfor\u001B[39;00m k \u001B[38;5;129;01min\u001B[39;00m \u001B[38;5;28mrange\u001B[39m(\u001B[38;5;241m5\u001B[39m):\n\u001B[0;32m     16\u001B[0m     station_names \u001B[38;5;241m=\u001B[39m lines\u001B[38;5;241m.\u001B[39miloc[k]\u001B[38;5;241m.\u001B[39mtolist()  \u001B[38;5;66;03m# Extract station names from the first row\u001B[39;00m\n\u001B[0;32m     17\u001B[0m     name \u001B[38;5;241m=\u001B[39m line_names[k]\n",
      "File \u001B[1;32m_pydevd_bundle\\pydevd_cython_win32_311_64.pyx:1179\u001B[0m, in \u001B[0;36m_pydevd_bundle.pydevd_cython_win32_311_64.SafeCallWrapper.__call__\u001B[1;34m()\u001B[0m\n",
      "File \u001B[1;32m_pydevd_bundle\\pydevd_cython_win32_311_64.pyx:620\u001B[0m, in \u001B[0;36m_pydevd_bundle.pydevd_cython_win32_311_64.PyDBFrame.trace_dispatch\u001B[1;34m()\u001B[0m\n",
      "File \u001B[1;32m_pydevd_bundle\\pydevd_cython_win32_311_64.pyx:929\u001B[0m, in \u001B[0;36m_pydevd_bundle.pydevd_cython_win32_311_64.PyDBFrame.trace_dispatch\u001B[1;34m()\u001B[0m\n",
      "File \u001B[1;32m_pydevd_bundle\\pydevd_cython_win32_311_64.pyx:920\u001B[0m, in \u001B[0;36m_pydevd_bundle.pydevd_cython_win32_311_64.PyDBFrame.trace_dispatch\u001B[1;34m()\u001B[0m\n",
      "File \u001B[1;32m_pydevd_bundle\\pydevd_cython_win32_311_64.pyx:317\u001B[0m, in \u001B[0;36m_pydevd_bundle.pydevd_cython_win32_311_64.PyDBFrame.do_wait_suspend\u001B[1;34m()\u001B[0m\n",
      "File \u001B[1;32mC:\\Program Files\\JetBrains\\PyCharm 2023.2.3\\plugins\\python\\helpers\\pydev\\pydevd.py:1160\u001B[0m, in \u001B[0;36mPyDB.do_wait_suspend\u001B[1;34m(self, thread, frame, event, arg, send_suspend_message, is_unhandled_exception)\u001B[0m\n\u001B[0;32m   1157\u001B[0m         from_this_thread\u001B[38;5;241m.\u001B[39mappend(frame_id)\n\u001B[0;32m   1159\u001B[0m \u001B[38;5;28;01mwith\u001B[39;00m \u001B[38;5;28mself\u001B[39m\u001B[38;5;241m.\u001B[39m_threads_suspended_single_notification\u001B[38;5;241m.\u001B[39mnotify_thread_suspended(thread_id, stop_reason):\n\u001B[1;32m-> 1160\u001B[0m     \u001B[38;5;28mself\u001B[39m\u001B[38;5;241m.\u001B[39m_do_wait_suspend(thread, frame, event, arg, suspend_type, from_this_thread)\n",
      "File \u001B[1;32mC:\\Program Files\\JetBrains\\PyCharm 2023.2.3\\plugins\\python\\helpers\\pydev\\pydevd.py:1175\u001B[0m, in \u001B[0;36mPyDB._do_wait_suspend\u001B[1;34m(self, thread, frame, event, arg, suspend_type, from_this_thread)\u001B[0m\n\u001B[0;32m   1172\u001B[0m             \u001B[38;5;28mself\u001B[39m\u001B[38;5;241m.\u001B[39m_call_mpl_hook()\n\u001B[0;32m   1174\u001B[0m         \u001B[38;5;28mself\u001B[39m\u001B[38;5;241m.\u001B[39mprocess_internal_commands()\n\u001B[1;32m-> 1175\u001B[0m         time\u001B[38;5;241m.\u001B[39msleep(\u001B[38;5;241m0.01\u001B[39m)\n\u001B[0;32m   1177\u001B[0m \u001B[38;5;28mself\u001B[39m\u001B[38;5;241m.\u001B[39mcancel_async_evaluation(get_current_thread_id(thread), \u001B[38;5;28mstr\u001B[39m(\u001B[38;5;28mid\u001B[39m(frame)))\n\u001B[0;32m   1179\u001B[0m \u001B[38;5;66;03m# process any stepping instructions\u001B[39;00m\n",
      "\u001B[1;31mKeyboardInterrupt\u001B[0m: "
     ]
    }
   ],
   "source": [
    "\n",
    "def build_model(travel_times, lines, weights):\n",
    "\n",
    "    # Initialize the Gurobi model\n",
    "    model = Model(\"NS_trains\")\n",
    "\n",
    "    line_names = ['800','3000','3100','3500','3900']\n",
    "    runnning_activites = {}\n",
    "    dwelling_activities = {}\n",
    "    transfer_activities = {}\n",
    "    sync_activities = {}\n",
    "    headway_activities = {}\n",
    "    events_pi = {}\n",
    "\n",
    "    for k in range(5):\n",
    "        station_names = lines.iloc[k].tolist()  # Extract station names from the first row\n",
    "        name = line_names[k]\n",
    "\n",
    "        # Create Gurobi variables for each possible trip between stations\n",
    "        for i in range(len(station_names) - 1):\n",
    "            station1 = str(station_names[i])\n",
    "            station2 = str(station_names[i+1])\n",
    "\n",
    "            if station1 == '0' or station2 == '0':\n",
    "                break\n",
    "            # Create a Gurobi variable for the activity between station1 and station2\n",
    "            runnning_activites[f'{station1} - {station2} - {name}'] = model.addVar(vtype=GRB.CONTINUOUS,\n",
    "                                                                        name=f\"activity_{station1}{station2}{name}\")\n",
    "            runnning_activites[f'{station2} - {station1} - {name}'] = model.addVar(vtype=GRB.CONTINUOUS,\n",
    "                                                                        name=f\"activity_{station2}{station1}{name}\")\n",
    "            \n",
    "\n",
    "            if i != 0 and i != len(station_names):\n",
    "                dwelling_activities[f'dwelling - {station1} - {name} forward trip'] = model.addVar(vtype=GRB.CONTINUOUS,\n",
    "                                                        name=f\"activity_dwelling at {station1} - {name} forward trip\")\n",
    "                dwelling_activities[f'dwelling - {station1} - {name} backward trip'] = model.addVar(vtype=GRB.CONTINUOUS,\n",
    "                                                        name=f\"activity_dwelling at {station1} - {name} backward trip\")\n",
    "        \n",
    "\n",
    "# Events\n",
    "            events_pi[f'arrival - {station1} - {station2} - {name}'] = model.addVar(vtype=GRB.CONTINUOUS,\n",
    "                                                                            name=f\"arrival_event_{station1}{station2}{name}\")\n",
    "            if i != len(station_names):\n",
    "                events_pi[f'departure - {station1} - {station2} - {name}'] = model.addVar(vtype=GRB.CONTINUOUS,\n",
    "                                                                            name=f\"departure_event_{station1}{station2}{name}\")\n",
    "                \n",
    "            \n",
    "    # Four Transfer activities at Eindhoven           \n",
    "    transfer_activities[f'transfer Hrl - Ut - 3500'] = model.addVar(vtype=GRB.CONTINUOUS,\n",
    "                                                        name=f\"activity_transfer at Hrl - Ut - 3500\")\n",
    "    transfer_activities[f'transfer Hrl - Ut - 800'] = model.addVar(vtype=GRB.CONTINUOUS,\n",
    "                                                        name=f\"activity_transfer at Hrl - Ut - 800 \")\n",
    "    transfer_activities[f'transfer Ut - Hrl - 800'] = model.addVar(vtype=GRB.CONTINUOUS,\n",
    "                                                        name=f\"activity_transfer at Ut - Hrl - 800 \")\n",
    "    transfer_activities[f'transfer Ut - Hrl - 3500'] = model.addVar(vtype=GRB.CONTINUOUS,\n",
    "                                                        name=f\"activity_transfer at Ut - Hrl - 3500\")\n",
    "    \n",
    "    # Headway at Utrecht from Ams/Sch and to Ams/Sch\n",
    "    headway_activities = ...\n",
    "    \n",
    "    \n",
    "    \n",
    "    \n",
    "    \n",
    "    \n",
    "    \n",
    "    \n",
    "    \n",
    "    \n",
    "    # Objective function: Minimize the total weighted travel time\n",
    "    objective = quicksum((rav * weights for rav in runnning_activites.values()))\n",
    "    \n",
    "    \n",
    "    model.setObjective(objective, GRB.MINIMIZE)\n",
    "    model.update()\n",
    "    \n",
    "    return model\n",
    "\n",
    "model = build_model(travel_times, lines, weights)"
   ],
   "metadata": {
    "collapsed": false,
    "ExecuteTime": {
     "end_time": "2024-01-18T09:57:24.728586500Z",
     "start_time": "2024-01-18T09:55:26.655383900Z"
    }
   },
   "id": "50adcbf15b32888f"
  },
  {
   "cell_type": "code",
   "execution_count": null,
   "outputs": [],
   "source": [],
   "metadata": {
    "collapsed": false,
    "ExecuteTime": {
     "start_time": "2024-01-18T08:32:19.429203100Z"
    }
   },
   "id": "a37b410beba2130f"
  }
 ],
 "metadata": {
  "kernelspec": {
   "display_name": "Python 3",
   "language": "python",
   "name": "python3"
  },
  "language_info": {
   "codemirror_mode": {
    "name": "ipython",
    "version": 2
   },
   "file_extension": ".py",
   "mimetype": "text/x-python",
   "name": "python",
   "nbconvert_exporter": "python",
   "pygments_lexer": "ipython2",
   "version": "2.7.6"
  }
 },
 "nbformat": 4,
 "nbformat_minor": 5
}
